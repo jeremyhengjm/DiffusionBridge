{
 "cells": [
  {
   "attachments": {},
   "cell_type": "markdown",
   "metadata": {},
   "source": [
    "# Demo: guided proposal for Brownian bridge "
   ]
  },
  {
   "cell_type": "code",
   "execution_count": 80,
   "metadata": {},
   "outputs": [],
   "source": [
    "import DiffusionBridge as db\n",
    "import torch\n",
    "import matplotlib.pyplot as plt\n",
    "from DiffusionBridge.utils import normal_logpdf\n",
    "plt.style.use('ggplot')"
   ]
  },
  {
   "cell_type": "code",
   "execution_count": 76,
   "metadata": {},
   "outputs": [
    {
     "name": "stdout",
     "output_type": "stream",
     "text": [
      "log-transition density: -6.6404619216918945\n"
     ]
    }
   ],
   "source": [
    "# problem settings\n",
    "d = 2\n",
    "f = lambda t,x: torch.zeros_like(x)\n",
    "sigma = torch.tensor(1.0)\n",
    "T = torch.tensor(10.0)\n",
    "M = 100\n",
    "diffusion = db.diffusion.model(f, sigma, d, T, M)\n",
    "\n",
    "# initial and terminal constraints\n",
    "X0 = 0.0 * torch.ones(d)\n",
    "XT = 5.0 * torch.ones(d)\n",
    "\n",
    "# transition density\n",
    "transition_mean = lambda t,x: x\n",
    "transition_var = lambda t: t * sigma * sigma\n",
    "score_transition = lambda t,x: (transition_mean(t, X0) - x) / transition_var(t)\n",
    "log_transition_density = normal_logpdf(XT.reshape(1, d), transition_mean(T, X0), transition_var(T))\n",
    "print('log-transition density: ' + str(float(log_transition_density)))\n",
    "\n",
    "# marginal density\n",
    "grad_logh = lambda t,x: (XT - transition_mean(T - t, x)) / transition_var(T - t)\n"
   ]
  },
  {
   "cell_type": "code",
   "execution_count": 79,
   "metadata": {},
   "outputs": [
    {
     "data": {
      "text/plain": [
       "0"
      ]
     },
     "execution_count": 79,
     "metadata": {},
     "output_type": "execute_result"
    }
   ],
   "source": [
    "len(transition_var(T).shape)\n"
   ]
  },
  {
   "cell_type": "code",
   "execution_count": 71,
   "metadata": {},
   "outputs": [],
   "source": [
    "class AuxiliaryDiffusion:\n",
    "    def __init__(self, initial_beta):\n",
    "        self.beta = torch.tensor(initial_beta, requires_grad=True)\n",
    "\n",
    "    def f(self, t, x):\n",
    "        return self.beta\n",
    "\n",
    "    def log_transition(self, s, xs, t, xt):\n",
    "        aux_transition_mean = xs + (t - s) * self.beta\n",
    "        aux_transition_var = (t - s) * diffusion.Sigma\n",
    "        log_density = normal_logpdf(xt, aux_transition_mean, aux_transition_var)\n",
    "        return log_density\n",
    "\n",
    "    def grad_logh(self, invSigma, terminal_state, terminal_time, t, x):\n",
    "        output = (\n",
    "            invSigma * (terminal_state - x) / (terminal_time - t) - invSigma * self.beta\n",
    "        )\n",
    "        return output\n",
    "\n",
    "\n",
    "def log_radon_nikodym(trajectories, aux_diffusion):\n",
    "    \"\"\"\n",
    "    Evaluate gradient function needed in score matching to learn score of transition density.\n",
    "\n",
    "    Parameters\n",
    "    ----------\n",
    "    trajectories : realizations of time-discretized process (N, M+1, d)\n",
    "\n",
    "    aux_diffusion : instance of class AuxiliaryDiffusion\n",
    "\n",
    "    Returns\n",
    "    -------\n",
    "    log_rn : gradient function evaluations (N, M, d)\n",
    "    \"\"\"\n",
    "\n",
    "    N = trajectories.shape[0]\n",
    "    M = diffusion.num_steps\n",
    "    invSigma = diffusion.invSigma\n",
    "    terminal_time = diffusion.T\n",
    "    initial_state = trajectories[:, 0, :]\n",
    "    terminal_state = trajectories[:, -1, :]\n",
    "    G = torch.zeros(N, M)\n",
    "\n",
    "    for m in range(M):\n",
    "        t_current = diffusion.time[m]\n",
    "        X_current = trajectories[:, m, :]\n",
    "        diff_f = diffusion.f(t_current, X_current) - aux_diffusion.f(t_current, X_current)  # size (N, d)\n",
    "        grad_logh = aux_diffusion.grad_logh(\n",
    "            invSigma, terminal_state, terminal_time, t_current, X_current\n",
    "        )  # size (N, d)\n",
    "        G[:, m] = torch.sum(diff_f * grad_logh, 1) * diffusion.stepsizes[m]  # size (N)\n",
    "\n",
    "    log_rn = torch.sum(G, 1) + aux_diffusion.log_transition(\n",
    "        0.0, initial_state, terminal_time, terminal_state\n",
    "    )  # size (N)\n",
    "\n",
    "    return log_rn"
   ]
  },
  {
   "cell_type": "code",
   "execution_count": 72,
   "metadata": {},
   "outputs": [],
   "source": [
    "def learn_guided_proposal(\n",
    "    initial_beta,\n",
    "    initial_state,\n",
    "    terminal_state,\n",
    "    minibatch,\n",
    "    num_iterations,\n",
    "    learning_rate,\n",
    "):\n",
    "    N = minibatch\n",
    "    M = diffusion.num_steps\n",
    "    loss_values = torch.zeros(num_iterations)\n",
    "    beta_values = torch.zeros(num_iterations, d)\n",
    "\n",
    "    # create auxiliary diffusion\n",
    "    aux_diffusion = AuxiliaryDiffusion(initial_beta)\n",
    "\n",
    "    # optimization\n",
    "    optimizer = torch.optim.SGD([aux_diffusion.beta], lr=learning_rate)\n",
    "    for i in range(num_iterations):\n",
    "        # simulate trajectories from auxiliary proposal process\n",
    "        with torch.no_grad():\n",
    "            proposal_drift = lambda t,x: diffusion.f(t,x) + diffusion.Sigma * aux_diffusion.grad_logh(\n",
    "                diffusion.invSigma, terminal_state, diffusion.T, t, x\n",
    "            )\n",
    "            simulation_output = diffusion.simulate_proposal_bridge(\n",
    "                proposal_drift,\n",
    "                initial_state,\n",
    "                terminal_state,\n",
    "                N,\n",
    "            )\n",
    "            trajectories = simulation_output[\"trajectories\"]\n",
    "            log_weights = log_radon_nikodym(trajectories, aux_diffusion)\n",
    "            max_log_weights = torch.max(log_weights)\n",
    "            weights = torch.exp(log_weights - max_log_weights)\n",
    "            normalized_weights = weights / torch.sum(weights)\n",
    "\n",
    "        # estimate kullback leibler \n",
    "        log_rn = log_radon_nikodym(trajectories, aux_diffusion)\n",
    "        loss = torch.sum(log_rn * normalized_weights)\n",
    "\n",
    "        # backpropagation\n",
    "        loss.backward()\n",
    "\n",
    "        # optimization step and zero gradient\n",
    "        optimizer.step()\n",
    "        optimizer.zero_grad()\n",
    "\n",
    "        # iteration counter\n",
    "        current_loss = loss.item()\n",
    "        loss_values[i] = current_loss\n",
    "        if (i == 0) or ((i+1) % 50 == 0):\n",
    "            print(\"Optimization iteration:\", i+1, \"Loss:\", current_loss)\n",
    "        beta_values[i,:] = aux_diffusion.beta\n",
    "\n",
    "    # output \n",
    "    output = {\n",
    "        'aux_diffusion': aux_diffusion,\n",
    "        'loss' : loss_values,\n",
    "        'beta': beta_values\n",
    "    }\n",
    "\n",
    "    return output\n"
   ]
  },
  {
   "cell_type": "code",
   "execution_count": 73,
   "metadata": {},
   "outputs": [
    {
     "name": "stderr",
     "output_type": "stream",
     "text": [
      "/var/folders/k3/bhywgh6117xbssfq3k_p40kw0000gn/T/ipykernel_18930/223349531.py:3: UserWarning: To copy construct from a tensor, it is recommended to use sourceTensor.clone().detach() or sourceTensor.clone().detach().requires_grad_(True), rather than torch.tensor(sourceTensor).\n",
      "  self.beta = torch.tensor(initial_beta, requires_grad=True)\n"
     ]
    },
    {
     "name": "stdout",
     "output_type": "stream",
     "text": [
      "Optimization iteration: 1 Loss: -814.6676025390625\n",
      "Optimization iteration: 50 Loss: -6.6390910148620605\n",
      "Optimization iteration: 100 Loss: -6.640392780303955\n",
      "Optimization iteration: 150 Loss: -6.641152858734131\n",
      "Optimization iteration: 200 Loss: -6.640589237213135\n",
      "Optimization iteration: 250 Loss: -6.633711338043213\n",
      "Optimization iteration: 300 Loss: -6.641338348388672\n",
      "Optimization iteration: 350 Loss: -6.6386332511901855\n",
      "Optimization iteration: 400 Loss: -6.639620780944824\n",
      "Optimization iteration: 450 Loss: -6.639821529388428\n",
      "Optimization iteration: 500 Loss: -6.637172222137451\n"
     ]
    },
    {
     "data": {
      "text/plain": [
       "<matplotlib.legend.Legend at 0x7fc8916fdeb0>"
      ]
     },
     "execution_count": 73,
     "metadata": {},
     "output_type": "execute_result"
    },
    {
     "data": {
      "image/png": "[encoded data removed]",
      "text/plain": [
       "<Figure size 576x360 with 1 Axes>"
      ]
     },
     "metadata": {},
     "output_type": "display_data"
    },
    {
     "data": {
      "image/png": "[encoded data removed]",
      "text/plain": [
       "<Figure size 576x360 with 1 Axes>"
      ]
     },
     "metadata": {},
     "output_type": "display_data"
    }
   ],
   "source": [
    "niter = 500\n",
    "output = learn_guided_proposal(\n",
    "    # initial_beta=2.0 * torch.randn(d),\n",
    "    initial_beta=10.0 * torch.ones(d),\n",
    "    initial_state=X0,\n",
    "    terminal_state=XT,\n",
    "    minibatch=1000,\n",
    "    num_iterations=niter,\n",
    "    learning_rate=0.1,\n",
    ")\n",
    "\n",
    "plt.figure(figsize=(8, 5))\n",
    "plt.hlines(0.0, 0, niter, color=\"black\")\n",
    "plt.plot(output[\"beta\"].detach().numpy())\n",
    "plt.xlabel(\"iteration\", fontsize=15)\n",
    "plt.legend([\"true beta\", \"beta\"], fontsize=15)\n",
    "\n",
    "plt.figure(figsize=(8,5))\n",
    "plt.hlines(float(log_transition_density), 0, niter, color='black')\n",
    "plt.plot(output['loss'].detach().numpy())\n",
    "plt.xlabel('iteration', fontsize=15)\n",
    "plt.legend(['log-transition density', 'loss'], fontsize=15)"
   ]
  },
  {
   "cell_type": "code",
   "execution_count": 74,
   "metadata": {},
   "outputs": [
    {
     "name": "stdout",
     "output_type": "stream",
     "text": [
      "log-transition density: -6.6404619216918945\n",
      "IS log-transition estimate: -6.667661666870117\n",
      "ESS%: 50.613731384277344\n",
      "IMH acceptance rate: 0.4775390625\n"
     ]
    }
   ],
   "source": [
    "N = 2**10\n",
    "proposal_drift = lambda t,x: diffusion.f(t,x) + diffusion.Sigma * output['aux_diffusion'].grad_logh(\n",
    "                diffusion.invSigma, XT, diffusion.T, t, x\n",
    "            )\n",
    "with torch.no_grad():\n",
    "    simulation_output = diffusion.simulate_proposal_bridge(proposal_drift, X0, XT, N)\n",
    "    trajectories = simulation_output['trajectories']\n",
    "    log_proposal = simulation_output['logdensity']\n",
    "log_target = diffusion.law_bridge(trajectories) \n",
    "log_weights = log_target - log_proposal\n",
    "\n",
    "# importance sampling\n",
    "max_log_weights = torch.max(log_weights)\n",
    "weights = torch.exp(log_weights - max_log_weights)\n",
    "norm_weights = weights / torch.sum(weights)\n",
    "ess = 1.0 / torch.sum(norm_weights**2)\n",
    "log_transition_estimate = torch.log(torch.mean(weights)) + max_log_weights\n",
    "print(\"log-transition density:\", float(log_transition_density))\n",
    "print(\"IS log-transition estimate:\", float(log_transition_estimate))\n",
    "print(\"ESS%:\", float(ess * 100 / N))\n",
    "\n",
    "# independent Metropolis-Hastings\n",
    "with torch.no_grad():\n",
    "    initial = diffusion.simulate_proposal_bridge(proposal_drift, X0, XT, 1)\n",
    "    current_trajectory = initial['trajectories']\n",
    "    current_log_proposal = initial['logdensity'] \n",
    "current_log_target = diffusion.law_bridge(current_trajectory)\n",
    "current_log_weight = current_log_target - current_log_proposal\n",
    "num_accept = 0\n",
    "for n in range(N):\n",
    "    proposed_trajectory = trajectories[n, :, :]\n",
    "    proposed_log_weight = log_weights[n]\n",
    "    log_accept_prob = proposed_log_weight - current_log_weight\n",
    "\n",
    "    if (torch.log(torch.rand(1)) < log_accept_prob):\n",
    "        current_trajectory = proposed_trajectory.clone()\n",
    "        current_log_weight = proposed_log_weight.clone()  \n",
    "        num_accept += 1\n",
    "accept_rate = num_accept / N\n",
    "print(\"IMH acceptance rate:\", accept_rate)"
   ]
  },
  {
   "cell_type": "code",
   "execution_count": null,
   "metadata": {},
   "outputs": [],
   "source": []
  },
  {
   "cell_type": "code",
   "execution_count": null,
   "metadata": {},
   "outputs": [],
   "source": []
  }
 ],
 "metadata": {
  "interpreter": {
   "hash": "92682f8464e9044ba142483ddeefd87e1deb5806fbb1da5a3f470e5bd39935be"
  },
  "kernelspec": {
   "display_name": "Python 3.8.3 64-bit ('base': conda)",
   "name": "python3"
  },
  "language_info": {
   "codemirror_mode": {
    "name": "ipython",
    "version": 3
   },
   "file_extension": ".py",
   "mimetype": "text/x-python",
   "name": "python",
   "nbconvert_exporter": "python",
   "pygments_lexer": "ipython3",
   "version": "3.9.7"
  },
  "orig_nbformat": 4
 },
 "nbformat": 4,
 "nbformat_minor": 2
}
