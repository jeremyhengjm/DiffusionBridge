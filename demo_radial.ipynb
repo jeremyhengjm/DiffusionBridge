{
 "cells": [
  {
   "attachments": {},
   "cell_type": "markdown",
   "metadata": {},
   "source": [
    "# Demo: guided proposal for radial Ornstein-Uhlenbeck bridge "
   ]
  },
  {
   "cell_type": "code",
   "execution_count": 3,
   "metadata": {},
   "outputs": [],
   "source": [
    "import numpy as np\n",
    "import DiffusionBridge as db\n",
    "import torch\n",
    "import matplotlib.pyplot as plt\n",
    "from scipy.special import iv, ivp\n",
    "from torch.distributions.gamma import Gamma\n",
    "plt.style.use(\"ggplot\")\n",
    "from DiffusionBridge.utils import normal_logpdf\n"
   ]
  },
  {
   "cell_type": "code",
   "execution_count": 260,
   "metadata": {},
   "outputs": [],
   "source": [
    "# problem settings\n",
    "d = 1\n",
    "theta = torch.tensor(4.0)\n",
    "f = lambda t, x: theta / x - x\n",
    "sigma = torch.tensor(1.0)\n",
    "T = torch.tensor(8.0)\n",
    "M = 400\n",
    "diffusion = db.diffusion.model(f, sigma, d, T, M)\n",
    "\n",
    "# transition density\n",
    "log_transition_density = (\n",
    "    lambda t, x, x0: theta * torch.log(x / x0)\n",
    "    + 0.5 * torch.log(x * x0)\n",
    "    - x**2\n",
    "    + (theta + 0.5) * t\n",
    "    - torch.log(torch.sinh(t))\n",
    "    - (x**2 + x0**2) / (torch.exp(2.0 * t) - 1.0)\n",
    "    + torch.log(iv(theta - 0.5, x * x0 / torch.sinh(t)))\n",
    ")\n",
    "\n",
    "score_transition = (\n",
    "    lambda t, x, x0: theta / x\n",
    "    + 1.0 / (2.0 * x)\n",
    "    - 2.0 * x\n",
    "    - 2.0 * x / (torch.exp(2.0 * t) - 1.0)\n",
    "    + (1.0 / iv(theta - 0.5, x * x0 / torch.sinh(t)))\n",
    "    * ivp(theta - 0.5, x * x0 / torch.sinh(t))\n",
    "    * x0\n",
    "    / torch.sinh(t)\n",
    ")\n",
    "\n",
    "# h-transform\n",
    "grad_logh = (\n",
    "    lambda t, x, xT: -theta / x\n",
    "    + 1.0 / (2.0 * x)\n",
    "    - 2.0 * x / (torch.exp(2.0 * (T - t)) - 1.0)\n",
    "    + (1.0 / iv(theta - 0.5, xT * x / torch.sinh(T - t)))\n",
    "    * ivp(theta - 0.5, xT * x / torch.sinh(T - t))\n",
    "    * xT\n",
    "    / torch.sinh(T - t)\n",
    ")\n",
    "\n",
    "# score marginal\n",
    "score_marginal = lambda t, x, x0, xT: score_transition(t, x, x0) + grad_logh(t, x, xT)"
   ]
  },
  {
   "attachments": {},
   "cell_type": "markdown",
   "metadata": {},
   "source": [
    "# Backward diffusion bridge with score matching"
   ]
  },
  {
   "cell_type": "code",
   "execution_count": 261,
   "metadata": {},
   "outputs": [
    {
     "data": {
      "image/png": "[encoded data removed]",
      "text/plain": [
       "<Figure size 432x288 with 1 Axes>"
      ]
     },
     "metadata": {},
     "output_type": "display_data"
    }
   ],
   "source": [
    "# plot initial and terminal distributions\n",
    "distribution_X0 = Gamma(torch.tensor(5.0), torch.tensor(2.0))\n",
    "simulate_X0 = lambda N: distribution_X0.sample((N,)).reshape(N, d)\n",
    "N = 2**14\n",
    "trajectories = diffusion.simulate_process(simulate_X0(N))[\"trajectories\"]\n",
    "plt.hist(trajectories[:, 0, 0].numpy(), bins=50, density=True, color=\"red\", alpha=0.5)\n",
    "plt.hist(trajectories[:, M, 0].numpy(), bins=50, density=True, color=\"grey\", alpha=0.5)\n",
    "plt.legend([\"Initial\", \"Terminal\"], fontsize=15)\n",
    "plt.show()"
   ]
  },
  {
   "cell_type": "code",
   "execution_count": 262,
   "metadata": {},
   "outputs": [
    {
     "name": "stdout",
     "output_type": "stream",
     "text": [
      "Optimization iteration: 1 Loss: 48.78646469116211\n",
      "Optimization iteration: 50 Loss: 45.24237060546875\n",
      "Optimization iteration: 100 Loss: 45.464263916015625\n",
      "Optimization iteration: 150 Loss: 45.333675384521484\n",
      "Optimization iteration: 200 Loss: 45.074527740478516\n",
      "Optimization iteration: 250 Loss: 45.67072677612305\n",
      "Optimization iteration: 300 Loss: 45.79130554199219\n",
      "Optimization iteration: 350 Loss: 45.90967559814453\n",
      "Optimization iteration: 400 Loss: 45.363582611083984\n",
      "Optimization iteration: 450 Loss: 45.26949691772461\n",
      "Optimization iteration: 500 Loss: 45.655662536621094\n",
      "Optimization iteration: 550 Loss: 45.269588470458984\n",
      "Optimization iteration: 600 Loss: 45.82787322998047\n",
      "Optimization iteration: 650 Loss: 45.44466018676758\n",
      "Optimization iteration: 700 Loss: 45.50825119018555\n",
      "Optimization iteration: 750 Loss: 45.14739227294922\n",
      "Optimization iteration: 800 Loss: 45.76108932495117\n",
      "Optimization iteration: 850 Loss: 45.4761848449707\n",
      "Optimization iteration: 900 Loss: 45.786685943603516\n",
      "Optimization iteration: 950 Loss: 45.41461944580078\n",
      "Optimization iteration: 1000 Loss: 45.79314422607422\n"
     ]
    }
   ],
   "source": [
    "# learn backward diffusion bridge process with score matching\n",
    "distribution_X0 = Gamma(torch.tensor(5.0), torch.tensor(2.0))\n",
    "simulate_X0 = lambda N: distribution_X0.sample((N,)).reshape(N, d)\n",
    "XT = []\n",
    "epsilon = 1.0\n",
    "minibatch = 1\n",
    "num_initial_per_batch = 100\n",
    "num_iterations = 1000\n",
    "learning_rate = 0.01\n",
    "ema_momentum = 0.99\n",
    "\n",
    "output = diffusion.learn_full_score_transition(\n",
    "    simulate_X0,\n",
    "    XT,\n",
    "    epsilon,\n",
    "    minibatch,\n",
    "    num_initial_per_batch,\n",
    "    num_iterations,\n",
    "    learning_rate,\n",
    "    ema_momentum,\n",
    ")\n",
    "score_transition_net = output[\"net\"]\n",
    "loss_values_transition = output[\"loss\"]"
   ]
  },
  {
   "cell_type": "code",
   "execution_count": 266,
   "metadata": {},
   "outputs": [
    {
     "name": "stdout",
     "output_type": "stream",
     "text": [
      "true log-transition density: -6.670233726501465\n",
      "log-transition density: -6.584484100341797\n",
      "ESS%: 90.81828308105469\n",
      "Acceptance rate: 0.83984375\n"
     ]
    }
   ],
   "source": [
    "# initial and terminal constraints\n",
    "# X0 = 1.5 * torch.ones(d)\n",
    "# XT = 1.0 * torch.ones(d)\n",
    "# X0 = 1.5 * torch.ones(d)\n",
    "# XT = 2.5 * torch.ones(d)\n",
    "X0 = 3.0 * torch.ones(d)\n",
    "XT = 4.0 * torch.ones(d)\n",
    "print(\"true log-transition density: \" + str(float(log_transition_density(T, XT, X0))))\n",
    "\n",
    "# simulate diffusion bridge process backwards using approximate score\n",
    "epsilon = 1.0\n",
    "N = 2**10\n",
    "num_steps = None\n",
    "# num_steps = int(2 * M)\n",
    "with torch.no_grad():\n",
    "    output = diffusion.simulate_bridge_backwards(\n",
    "        score_transition_net,\n",
    "        X0,\n",
    "        XT,\n",
    "        epsilon,\n",
    "        N,\n",
    "        modify=True,\n",
    "        full_score=True,\n",
    "        new_num_steps=num_steps,\n",
    "    )\n",
    "    trajectories = output[\"trajectories\"]\n",
    "    log_proposal = output[\"logdensity\"]\n",
    "\n",
    "# importance sampling\n",
    "log_target = diffusion.law_bridge(trajectories, new_num_steps=num_steps)\n",
    "log_weights = log_target - log_proposal\n",
    "max_log_weights = torch.max(log_weights)\n",
    "weights = torch.exp(log_weights - max_log_weights)\n",
    "norm_weights = weights / torch.sum(weights)\n",
    "ess = 1.0 / torch.sum(norm_weights**2)\n",
    "log_transition_estimate = torch.log(torch.mean(weights)) + max_log_weights\n",
    "print(\"log-transition density: \" + str(float(log_transition_estimate)))\n",
    "print(\"ESS%: \" + str(float(ess * 100 / N)))\n",
    "\n",
    "# independent Metropolis-Hastings\n",
    "initial = diffusion.simulate_bridge_backwards(\n",
    "    score_transition_net,\n",
    "    X0,\n",
    "    XT,\n",
    "    epsilon,\n",
    "    1,\n",
    "    modify=True,\n",
    "    full_score=True,\n",
    "    new_num_steps=num_steps,\n",
    ")\n",
    "current_trajectory = initial[\"trajectories\"]\n",
    "current_log_proposal = initial[\"logdensity\"]\n",
    "current_log_target = diffusion.law_bridge(current_trajectory, new_num_steps=num_steps)\n",
    "current_log_weight = current_log_target - current_log_proposal\n",
    "num_accept = 0\n",
    "for n in range(N):\n",
    "    proposed_trajectory = trajectories[n, :, :]\n",
    "    proposed_log_weight = log_weights[n]\n",
    "    log_accept_prob = proposed_log_weight - current_log_weight\n",
    "\n",
    "    if torch.log(torch.rand(1)) < log_accept_prob:\n",
    "        current_trajectory = proposed_trajectory.clone()\n",
    "        current_log_weight = proposed_log_weight.clone()\n",
    "        num_accept += 1\n",
    "accept_rate = num_accept / N\n",
    "print(\"Acceptance rate: \" + str(float(accept_rate)))"
   ]
  },
  {
   "attachments": {},
   "cell_type": "markdown",
   "metadata": {},
   "source": [
    "# Guided proposal process"
   ]
  },
  {
   "cell_type": "code",
   "execution_count": 275,
   "metadata": {},
   "outputs": [
    {
     "name": "stdout",
     "output_type": "stream",
     "text": [
      "true log-transition density: -2.760589599609375\n"
     ]
    },
    {
     "name": "stderr",
     "output_type": "stream",
     "text": [
      "/Users/jeremy/Library/CloudStorage/Dropbox/DiffusionBridge/DiffusionBridge/DiffusionBridge/auxiliary.py:18: UserWarning: To copy construct from a tensor, it is recommended to use sourceTensor.clone().detach() or sourceTensor.clone().detach().requires_grad_(True), rather than torch.tensor(sourceTensor).\n",
      "  name: torch.tensor(value, requires_grad=True)\n"
     ]
    },
    {
     "name": "stdout",
     "output_type": "stream",
     "text": [
      "Optimization iteration: 1 Loss: -1.8623193502426147\n",
      "Optimization iteration: 50 Loss: -2.15366268157959\n",
      "Optimization iteration: 100 Loss: -1.5781676769256592\n",
      "Optimization iteration: 150 Loss: -1.9916667938232422\n",
      "Optimization iteration: 200 Loss: -2.331449270248413\n",
      "Optimization iteration: 250 Loss: -2.2949728965759277\n",
      "Optimization iteration: 300 Loss: -1.8303653001785278\n",
      "Optimization iteration: 350 Loss: -2.0504446029663086\n",
      "Optimization iteration: 400 Loss: -2.4321508407592773\n",
      "Optimization iteration: 450 Loss: -2.406789779663086\n",
      "Optimization iteration: 500 Loss: -2.055769681930542\n",
      "Optimization iteration: 550 Loss: -2.2716965675354004\n",
      "Optimization iteration: 600 Loss: -2.2184293270111084\n",
      "Optimization iteration: 650 Loss: -2.168645143508911\n",
      "Optimization iteration: 700 Loss: -2.2582309246063232\n",
      "Optimization iteration: 750 Loss: -2.4609298706054688\n",
      "Optimization iteration: 800 Loss: -2.353822946548462\n",
      "Optimization iteration: 850 Loss: -2.2997851371765137\n",
      "Optimization iteration: 900 Loss: -2.35978627204895\n",
      "Optimization iteration: 950 Loss: -2.15549635887146\n",
      "Optimization iteration: 1000 Loss: -2.46710205078125\n"
     ]
    }
   ],
   "source": [
    "# initial and terminal constraints\n",
    "# X0 = 1.5 * torch.ones(d)\n",
    "# XT = 1.0 * torch.ones(d)\n",
    "X0 = 1.5 * torch.ones(d)\n",
    "XT = 2.5 * torch.ones(d)\n",
    "# X0 = 3.0 * torch.ones(d)\n",
    "# XT = 4.0 * torch.ones(d)\n",
    "print(\"true log-transition density: \" + str(float(log_transition_density(T, XT, X0))))\n",
    "\n",
    "auxiliary_type = \"ou\"\n",
    "# auxiliary_type = \"brownian\"\n",
    "initial_params = {\n",
    "    \"alpha\": 1.0 * torch.randn(d),\n",
    "    \"beta\": 1.0 * torch.randn(d),\n",
    "}\n",
    "niter = 1000\n",
    "\n",
    "output = diffusion.learn_guided_proposal(\n",
    "    auxiliary_type,\n",
    "    initial_params,\n",
    "    initial_state=X0,\n",
    "    terminal_state=XT,\n",
    "    minibatch=100,\n",
    "    num_iterations=niter,\n",
    "    learning_rate=0.01,\n",
    ")"
   ]
  },
  {
   "cell_type": "code",
   "execution_count": 276,
   "metadata": {},
   "outputs": [
    {
     "data": {
      "text/plain": [
       "<matplotlib.legend.Legend at 0x7fa4106e6c10>"
      ]
     },
     "execution_count": 276,
     "metadata": {},
     "output_type": "execute_result"
    },
    {
     "data": {
      "image/png": "[encoded data removed]",
      "text/plain": [
       "<Figure size 576x360 with 2 Axes>"
      ]
     },
     "metadata": {},
     "output_type": "display_data"
    },
    {
     "data": {
      "image/png": "[encoded data removed]",
      "text/plain": [
       "<Figure size 576x360 with 1 Axes>"
      ]
     },
     "metadata": {},
     "output_type": "display_data"
    }
   ],
   "source": [
    "plt.figure(figsize=(8, 5))\n",
    "plt.subplot(1, 2, 1)\n",
    "# plt.hlines(float(alpha), 0, niter, color=\"black\")\n",
    "plt.plot(output[\"params\"][\"alpha\"])\n",
    "plt.xlabel(\"iteration\", fontsize=15)\n",
    "plt.ylabel(\"alpha\", fontsize=15)\n",
    "plt.legend([\"true\", \"estimate\"], fontsize=15)\n",
    "\n",
    "plt.subplot(1, 2, 2)\n",
    "# plt.hlines(float(beta), 0, niter, color=\"black\")\n",
    "plt.plot(output[\"params\"][\"beta\"])\n",
    "plt.xlabel(\"iteration\", fontsize=15)\n",
    "plt.ylabel(\"beta\", fontsize=15)\n",
    "plt.legend([\"true\", \"estimate\"], fontsize=15)\n",
    "\n",
    "plt.figure(figsize=(8, 5))\n",
    "plt.hlines(float(log_transition_density(T, XT, X0)), 0, niter, color=\"black\")\n",
    "plt.plot(output[\"loss\"].detach().numpy())\n",
    "plt.xlabel(\"iteration\", fontsize=15)\n",
    "plt.legend([\"log-transition density\", \"loss\"], fontsize=15)"
   ]
  },
  {
   "cell_type": "code",
   "execution_count": 308,
   "metadata": {},
   "outputs": [
    {
     "name": "stdout",
     "output_type": "stream",
     "text": [
      "log-transition density: -2.760589599609375\n",
      "IS log-transition estimate: -2.678074598312378\n",
      "ESS%: 54.084556579589844\n",
      "IMH acceptance rate: 0.5322265625\n"
     ]
    }
   ],
   "source": [
    "N = 2**10\n",
    "proposal_drift = lambda t, x: diffusion.f(t, x) + diffusion.Sigma * output[\n",
    "    \"auxiliary\"\n",
    "].grad_logh(XT, t, x)\n",
    "with torch.no_grad():\n",
    "    simulation_output = diffusion.simulate_proposal_bridge(\n",
    "        proposal_drift, X0, XT, N, modify=False\n",
    "    )\n",
    "    trajectories = simulation_output[\"trajectories\"]\n",
    "    log_proposal = simulation_output[\"logdensity\"]\n",
    "log_target = diffusion.law_bridge(trajectories)\n",
    "log_weights = log_target - log_proposal\n",
    "# log_weights = output[\"auxiliary\"].log_radon_nikodym(trajectories)\n",
    "\n",
    "# importance sampling\n",
    "max_log_weights = torch.max(log_weights)\n",
    "weights = torch.exp(log_weights - max_log_weights)\n",
    "norm_weights = weights / torch.sum(weights)\n",
    "ess = 1.0 / torch.sum(norm_weights**2)\n",
    "log_transition_estimate = torch.log(torch.mean(weights)) + max_log_weights\n",
    "print(\"log-transition density:\", float(log_transition_density(T, XT, X0)))\n",
    "print(\"IS log-transition estimate:\", float(log_transition_estimate))\n",
    "print(\"ESS%:\", float(ess * 100 / N))\n",
    "\n",
    "# independent Metropolis-Hastings\n",
    "with torch.no_grad():\n",
    "    initial = diffusion.simulate_proposal_bridge(proposal_drift, X0, XT, 1)\n",
    "    current_trajectory = initial[\"trajectories\"]\n",
    "    current_log_proposal = initial[\"logdensity\"]\n",
    "current_log_target = diffusion.law_bridge(current_trajectory)\n",
    "current_log_weight = current_log_target - current_log_proposal\n",
    "num_accept = 0\n",
    "for n in range(N):\n",
    "    proposed_trajectory = trajectories[n, :, :]\n",
    "    proposed_log_weight = log_weights[n]\n",
    "    log_accept_prob = proposed_log_weight - current_log_weight\n",
    "\n",
    "    if torch.log(torch.rand(1)) < log_accept_prob:\n",
    "        current_trajectory = proposed_trajectory.clone()\n",
    "        current_log_weight = proposed_log_weight.clone()\n",
    "        num_accept += 1\n",
    "accept_rate = num_accept / N\n",
    "print(\"IMH acceptance rate:\", accept_rate)"
   ]
  },
  {
   "cell_type": "code",
   "execution_count": null,
   "metadata": {},
   "outputs": [],
   "source": []
  }
 ],
 "metadata": {
  "interpreter": {
   "hash": "92682f8464e9044ba142483ddeefd87e1deb5806fbb1da5a3f470e5bd39935be"
  },
  "kernelspec": {
   "display_name": "Python 3.8.3 64-bit ('base': conda)",
   "name": "python3"
  },
  "language_info": {
   "codemirror_mode": {
    "name": "ipython",
    "version": 3
   },
   "file_extension": ".py",
   "mimetype": "text/x-python",
   "name": "python",
   "nbconvert_exporter": "python",
   "pygments_lexer": "ipython3",
   "version": "3.9.7"
  },
  "orig_nbformat": 4
 },
 "nbformat": 4,
 "nbformat_minor": 2
}
